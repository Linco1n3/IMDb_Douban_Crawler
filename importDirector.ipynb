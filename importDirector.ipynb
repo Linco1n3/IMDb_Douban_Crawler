{
 "cells": [
  {
   "cell_type": "code",
   "execution_count": 37,
   "metadata": {},
   "outputs": [],
   "source": [
    "import imdb\n",
    "import csv\n",
    "import json\n",
    "import pandas as pd\n",
    "import numpy as np"
   ]
  },
  {
   "cell_type": "code",
   "execution_count": 5,
   "metadata": {},
   "outputs": [
    {
     "name": "stdout",
     "output_type": "stream",
     "text": [
      "<class 'pandas.core.frame.DataFrame'>\n",
      "RangeIndex: 29624 entries, 0 to 29623\n",
      "Data columns (total 9 columns):\n",
      "id                      29624 non-null int64\n",
      "title                   29624 non-null object\n",
      "year                    29624 non-null int64\n",
      "language                29624 non-null object\n",
      "plot outline            29623 non-null object\n",
      "production companies    29624 non-null object\n",
      "genres                  29624 non-null object\n",
      "rating                  29624 non-null float64\n",
      "director                29624 non-null object\n",
      "dtypes: float64(1), int64(2), object(6)\n",
      "memory usage: 2.0+ MB\n"
     ]
    }
   ],
   "source": [
    "imdb = pd.read_csv(\"IMDb.csv\")\n",
    "imdb.info()\n",
    "#director = imdb[\"directory\"]"
   ]
  },
  {
   "cell_type": "code",
   "execution_count": 32,
   "metadata": {},
   "outputs": [
    {
     "name": "stdout",
     "output_type": "stream",
     "text": [
      "(29624, 1)\n",
      "          director\n",
      "0    John Lasseter\n",
      "1     Joe Johnston\n",
      "2    Howard Deutch\n",
      "3  Forest Whitaker\n",
      "4    Charles Shyer\n",
      "5     Michael Mann\n",
      "6   Sydney Pollack\n",
      "7     Peter Hewitt\n",
      "8      Peter Hyams\n",
      "9  Martin Campbell\n"
     ]
    }
   ],
   "source": [
    "directors = imdb[['director']]\n",
    "print(directors.shape)\n",
    "print(directors[:10])"
   ]
  },
  {
   "cell_type": "code",
   "execution_count": 35,
   "metadata": {},
   "outputs": [
    {
     "data": {
      "text/plain": [
       "array(['John Lasseter'], dtype=object)"
      ]
     },
     "execution_count": 35,
     "metadata": {},
     "output_type": "execute_result"
    }
   ],
   "source": [
    "directors.values[0]"
   ]
  },
  {
   "cell_type": "code",
   "execution_count": 43,
   "metadata": {},
   "outputs": [
    {
     "name": "stdout",
     "output_type": "stream",
     "text": [
      "['50 Cent' 'A. Dean Bell' 'A. Edward Sutherland' 'A.D. Calvo'\n",
      " 'A.J. Edwards' 'A.R. Murugadoss' 'AJ Schnack' 'Aamir Khan'\n",
      " 'Aanand L. Rai' 'Aaron Aites' 'Aaron Blaise' 'Aaron Hann' 'Aaron Harvey'\n",
      " 'Aaron Hendren' 'Aaron J. Wiederspahn' 'Aaron James' 'Aaron Katz'\n",
      " 'Aaron Lipstadt' 'Aaron Newman' 'Aaron Norris' 'Aaron Rose'\n",
      " 'Aaron Schneider' 'Aaron Schock' 'Aaron Seltzer' 'Aaron Wilson'\n",
      " 'Aaron Woodley' 'Aaron Woolf' 'Abbas Alibhai Burmawalla'\n",
      " 'Abbas Kiarostami' 'Abbe Wool' 'Abby Berlin' 'Abby Epstein'\n",
      " 'Abdellatif Kechiche' 'Abderrahmane Sissako' 'Abdul Malik Abbott'\n",
      " 'Abe Levitow' 'Abe Levy' 'Abe Sylvia' 'Abel Ferrara' 'Abel Ferry'\n",
      " 'Abel Gance' 'Abhinay Deo' 'Abhishek Chaubey' 'Abhishek Jain'\n",
      " 'Abhishek Kapoor' 'Abhishek Sharma' 'Abner Biberman' 'Abolfazl Jalili'\n",
      " 'Abraham Polonsky' 'Abram Cox' 'Ace Cruz' 'Ace Jordan' 'Achero Mañas'\n",
      " 'Ackyl Anwari' 'Adam Abraham' 'Adam Bernstein' 'Adam Bhala Lough'\n",
      " 'Adam Blaiklock' 'Adam Brooks' 'Adam Carolla' 'Adam Collis' 'Adam Curtis'\n",
      " 'Adam Del Deo' 'Adam Dubin' 'Adam Elliot' 'Adam Gierasch' 'Adam Goldberg'\n",
      " 'Adam Green' 'Adam Grossman' 'Adam Kane' 'Adam Kassen' 'Adam Leon'\n",
      " 'Adam Lipsius' 'Adam MacDonald' 'Adam Marcus' 'Adam Mason' 'Adam Massey'\n",
      " 'Adam McKay' 'Adam Neutzsky-Wulff' 'Adam Rapp' 'Adam Rehmeier'\n",
      " 'Adam Reid' 'Adam Resnick' 'Adam Rifkin' 'Adam Robitel' 'Adam Salky'\n",
      " 'Adam Sanderson' 'Adam Schomer' 'Adam Shankman' 'Adam Sherman'\n",
      " 'Adam Simon' 'Adam Thomas Anderegg' 'Adam Vardy' 'Adam Wimpenny'\n",
      " 'Adam Wingard' 'Adam Yauch' 'Adek Drabinski' 'Ademir Kenovic'\n",
      " 'Aditya Bhattacharya' 'Aditya Chopra']\n"
     ]
    }
   ],
   "source": [
    "distinct_directors = np.unique(directors.values)\n",
    "print(distinct_directors[:100])"
   ]
  },
  {
   "cell_type": "code",
   "execution_count": 46,
   "metadata": {},
   "outputs": [
    {
     "name": "stdout",
     "output_type": "stream",
     "text": [
      "11356\n"
     ]
    }
   ],
   "source": [
    "with open('directors.csv', mode='w') as f:\n",
    "    fieldnames = ['id', 'name']\n",
    "    writer = csv.DictWriter(f, fieldnames=fieldnames)\n",
    "    writer.writeheader()\n",
    "    ID=0\n",
    "    for director in distinct_directors:\n",
    "        ID+=1\n",
    "        row = [str(ID), director]\n",
    "        #print(row)\n",
    "        dict_writer = dict(zip(fieldnames, row))        \n",
    "        writer.writerow(dict_writer)\n",
    "print(ID) # indicate the number of directors recorded in table"
   ]
  },
  {
   "cell_type": "code",
   "execution_count": 59,
   "metadata": {},
   "outputs": [
    {
     "name": "stdout",
     "output_type": "stream",
     "text": [
      "5302\n"
     ]
    }
   ],
   "source": [
    "director_directorID = {}\n",
    "for index, director in enumerate(distinct_directors):\n",
    "    #print (index, director)\n",
    "    director_directorID[director] = index+1\n",
    "print(director_directorID['John Lasseter'])"
   ]
  },
  {
   "cell_type": "code",
   "execution_count": 68,
   "metadata": {},
   "outputs": [
    {
     "name": "stdout",
     "output_type": "stream",
     "text": [
      "29624\n",
      "5302\n"
     ]
    }
   ],
   "source": [
    "IMDb = csv.DictReader(open('IMDb.csv'))\n",
    "film_director = {}\n",
    "# film_id = None\n",
    "# director = None\n",
    "for row in IMDb:\n",
    "    film_id = row['id']\n",
    "    director = row['director']\n",
    "    film_director[film_id] = director_directorID[director]\n",
    "print(len(film_director))\n",
    "print(film_director['114709'])"
   ]
  },
  {
   "cell_type": "code",
   "execution_count": 72,
   "metadata": {},
   "outputs": [],
   "source": [
    "with open('director_film.csv', mode='w') as file:\n",
    "    #filednames = ['director_id', 'film_id']\n",
    "    [file.write('{0},{1}\\n'.format(key, value)) for key, value in film_director.items()]"
   ]
  },
  {
   "cell_type": "code",
   "execution_count": 74,
   "metadata": {},
   "outputs": [],
   "source": [
    "file.close()\n",
    "f.close()"
   ]
  },
  {
   "cell_type": "code",
   "execution_count": null,
   "metadata": {},
   "outputs": [],
   "source": []
  }
 ],
 "metadata": {
  "kernelspec": {
   "display_name": "Python 3",
   "language": "python",
   "name": "python3"
  },
  "language_info": {
   "codemirror_mode": {
    "name": "ipython",
    "version": 3
   },
   "file_extension": ".py",
   "mimetype": "text/x-python",
   "name": "python",
   "nbconvert_exporter": "python",
   "pygments_lexer": "ipython3",
   "version": "3.6.6"
  }
 },
 "nbformat": 4,
 "nbformat_minor": 2
}
