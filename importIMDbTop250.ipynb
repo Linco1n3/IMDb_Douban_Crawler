{
 "cells": [
  {
   "cell_type": "code",
   "execution_count": 67,
   "metadata": {},
   "outputs": [
    {
     "name": "stdout",
     "output_type": "stream",
     "text": [
      "Requirement already satisfied: imdbpy in /anaconda3/lib/python3.6/site-packages (6.7)\n",
      "Requirement already satisfied: SQLAlchemy in /anaconda3/lib/python3.6/site-packages (from imdbpy) (1.2.14)\n",
      "Requirement already satisfied: lxml in /anaconda3/lib/python3.6/site-packages (from imdbpy) (4.2.5)\n",
      "\u001b[33mYou are using pip version 19.0.3, however version 19.1.1 is available.\n",
      "You should consider upgrading via the 'pip install --upgrade pip' command.\u001b[0m\n"
     ]
    }
   ],
   "source": [
    "!pip3.6 install imdbpy"
   ]
  },
  {
   "cell_type": "code",
   "execution_count": 76,
   "metadata": {},
   "outputs": [],
   "source": [
    "import imdb\n",
    "import csv\n",
    "import json\n",
    "import pandas as pd"
   ]
  },
  {
   "cell_type": "code",
   "execution_count": 77,
   "metadata": {},
   "outputs": [],
   "source": [
    "ia = imdb.IMDb()\n",
    "top250 = ia.get_top250_movies()"
   ]
  },
  {
   "cell_type": "code",
   "execution_count": 78,
   "metadata": {},
   "outputs": [
    {
     "data": {
      "text/plain": [
       "'0111161'"
      ]
     },
     "execution_count": 78,
     "metadata": {},
     "output_type": "execute_result"
    }
   ],
   "source": [
    "top250[0]\n",
    "top250[0].movieID"
   ]
  },
  {
   "cell_type": "code",
   "execution_count": 79,
   "metadata": {},
   "outputs": [
    {
     "name": "stdout",
     "output_type": "stream",
     "text": [
      "{'rating': 9.2, 'title': 'The Shawshank Redemption', 'year': 1994, 'votes': 2100703, 'top 250 rank': 1, 'kind': 'movie'}\n",
      "{'rating': 8.0, 'title': 'Lagaan: Once Upon a Time in India', 'year': 2001, 'votes': 92777, 'top 250 rank': 250, 'kind': 'movie'}\n"
     ]
    }
   ],
   "source": [
    "print(top250[0].data)\n",
    "print(top250[-1].data)"
   ]
  },
  {
   "cell_type": "code",
   "execution_count": 80,
   "metadata": {},
   "outputs": [
    {
     "name": "stdout",
     "output_type": "stream",
     "text": [
      "_defModFunct: None, _results: 20, _keywordsResults: 100, _reraise_exceptions: False, urls: {'movie_base': 'https://www.imdb.com/title/', 'movie_main': 'https://www.imdb.com/title/tt%s/', 'person_base': 'https://www.imdb.com/name/', 'person_main': 'https://www.imdb.com/name/nm%s/', 'character_base': 'https://www.imdb.com/character/', 'character_main': 'https://www.imdb.com/character/ch%s/', 'company_base': 'https://www.imdb.com/company/', 'company_main': 'https://www.imdb.com/company/co%s/', 'keyword_main': 'https://www.imdb.com/keyword/%s/', 'top250': 'https://www.imdb.com/chart/top', 'bottom100': 'https://www.imdb.com/chart/bottom', 'find': 'https://www.imdb.com/find?%s'}, urlOpener: <imdb.parser.http.IMDbURLopener object at 0x12342f630>, _getRefs: True, _mdparse: False, smProxy: <imdb.parser.http._ModuleProxy object at 0x11a3ea4a8>, spProxy: <imdb.parser.http._ModuleProxy object at 0x11a3ea2b0>, scompProxy: <imdb.parser.http._ModuleProxy object at 0x11a3ea470>, skProxy: <imdb.parser.http._ModuleProxy object at 0x11a3ea6d8>, mProxy: <imdb.parser.http._ModuleProxy object at 0x11a3ea588>, pProxy: <imdb.parser.http._ModuleProxy object at 0x11a3ea630>, compProxy: <imdb.parser.http._ModuleProxy object at 0x11a3ea5f8>, topBottomProxy: <imdb.parser.http._ModuleProxy object at 0x11a3ea5c0>\n"
     ]
    }
   ],
   "source": [
    "attrs = vars(ia)\n",
    "print(', '.join(\"%s: %s\" % item for item in attrs.items()))"
   ]
  },
  {
   "cell_type": "code",
   "execution_count": 81,
   "metadata": {},
   "outputs": [],
   "source": [
    "with open('IMDbTop250.csv', mode='w') as f:\n",
    "    fieldnames = ['rating', 'title', 'year', 'votes', 'top 250 rank', 'kind']\n",
    "    writer = csv.DictWriter(f, fieldnames=fieldnames)\n",
    "    \n",
    "    writer.writeheader()\n",
    "    for movie in top250:\n",
    "        writer.writerow(movie.data)"
   ]
  },
  {
   "cell_type": "code",
   "execution_count": 82,
   "metadata": {},
   "outputs": [
    {
     "name": "stdout",
     "output_type": "stream",
     "text": [
      "<class 'pandas.core.frame.DataFrame'>\n",
      "RangeIndex: 250 entries, 0 to 249\n",
      "Data columns (total 6 columns):\n",
      "rating          250 non-null float64\n",
      "title           250 non-null object\n",
      "year            250 non-null int64\n",
      "votes           250 non-null int64\n",
      "top 250 rank    250 non-null int64\n",
      "kind            250 non-null object\n",
      "dtypes: float64(1), int64(3), object(2)\n",
      "memory usage: 11.8+ KB\n"
     ]
    }
   ],
   "source": [
    "imdb = pd.read_csv(\"IMDbTop250.csv\")\n",
    "imdb.info()"
   ]
  },
  {
   "cell_type": "code",
   "execution_count": 83,
   "metadata": {},
   "outputs": [
    {
     "name": "stdout",
     "output_type": "stream",
     "text": [
      "(250, 6)\n",
      "count    250.000000\n",
      "mean       8.260400\n",
      "std        0.233172\n",
      "min        8.000000\n",
      "25%        8.100000\n",
      "50%        8.200000\n",
      "75%        8.400000\n",
      "max        9.200000\n",
      "Name: rating, dtype: float64\n"
     ]
    }
   ],
   "source": [
    "print(imdb.shape)\n",
    "print(imdb.rating.describe())"
   ]
  },
  {
   "cell_type": "code",
   "execution_count": null,
   "metadata": {},
   "outputs": [],
   "source": []
  },
  {
   "cell_type": "code",
   "execution_count": null,
   "metadata": {},
   "outputs": [],
   "source": []
  }
 ],
 "metadata": {
  "kernelspec": {
   "display_name": "Python 3",
   "language": "python",
   "name": "python3"
  },
  "language_info": {
   "codemirror_mode": {
    "name": "ipython",
    "version": 3
   },
   "file_extension": ".py",
   "mimetype": "text/x-python",
   "name": "python",
   "nbconvert_exporter": "python",
   "pygments_lexer": "ipython3",
   "version": "3.6.6"
  }
 },
 "nbformat": 4,
 "nbformat_minor": 2
}
